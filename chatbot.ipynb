{
  "cells": [
    {
      "cell_type": "markdown",
      "metadata": {
        "id": "view-in-github",
        "colab_type": "text"
      },
      "source": [
        "<a href=\"https://colab.research.google.com/github/My-adv-path/chatbot-using-python/blob/main/chatbot.ipynb\" target=\"_parent\"><img src=\"https://colab.research.google.com/assets/colab-badge.svg\" alt=\"Open In Colab\"/></a>"
      ]
    },
    {
      "cell_type": "code",
      "execution_count": null,
      "metadata": {
        "colab": {
          "base_uri": "https://localhost:8080/"
        },
        "id": "KrCouikn0Q99",
        "outputId": "256216f9-29b1-4424-f500-79aef9096aa5"
      },
      "outputs": [
        {
          "name": "stdout",
          "output_type": "stream",
          "text": [
            "Cloning into 'chatbot-using-python'...\n",
            "remote: Enumerating objects: 9, done.\u001b[K\n",
            "remote: Counting objects: 100% (9/9), done.\u001b[K\n",
            "remote: Compressing objects: 100% (7/7), done.\u001b[K\n",
            "remote: Total 9 (delta 1), reused 0 (delta 0), pack-reused 0 (from 0)\u001b[K\n",
            "Receiving objects: 100% (9/9), 10.12 KiB | 10.12 MiB/s, done.\n",
            "Resolving deltas: 100% (1/1), done.\n",
            "/content/chatbot-using-python\n"
          ]
        }
      ],
      "source": [
        "!git clone https://github.com/My-adv-path/chatbot-using-python.git\n",
        "%cd chatbot-using-python\n"
      ]
    },
    {
      "cell_type": "code",
      "execution_count": 7,
      "metadata": {
        "colab": {
          "base_uri": "https://localhost:8080/"
        },
        "id": "5lvJ25eoGWg1",
        "outputId": "ab0a109b-0737-4c96-bbf1-cf87d619087f"
      },
      "outputs": [
        {
          "output_type": "stream",
          "name": "stderr",
          "text": [
            "[nltk_data] Downloading package punkt to /root/nltk_data...\n",
            "[nltk_data]   Package punkt is already up-to-date!\n",
            "[nltk_data] Downloading package wordnet to /root/nltk_data...\n",
            "[nltk_data]   Package wordnet is already up-to-date!\n",
            "[nltk_data] Downloading package punkt_tab to /root/nltk_data...\n",
            "[nltk_data]   Package punkt_tab is already up-to-date!\n"
          ]
        },
        {
          "name": "stdout",
          "output_type": "stream",
          "text": [
            "bot:,my name is shark.lets have a conversation also,if you want to exit any time,just type bye\n",
            "1.foundation\n",
            "2.etymology\n",
            "3.data science and data analysis\n",
            "4.cloud\n",
            "5.ethical consideration\n",
            "enter the above options in words\n",
            "\n",
            "enter etymology\n"
          ]
        },
        {
          "output_type": "stream",
          "name": "stderr",
          "text": [
            "/usr/local/lib/python3.11/dist-packages/sklearn/feature_extraction/text.py:517: UserWarning: The parameter 'token_pattern' will not be used since 'tokenizer' is not None'\n",
            "  warnings.warn(\n",
            "/usr/local/lib/python3.11/dist-packages/sklearn/feature_extraction/text.py:402: UserWarning: Your stop_words may be inconsistent with your preprocessing. Tokenizing the stop words generated tokens ['ha', 'u', 'wa'] not in stop_words.\n",
            "  warnings.warn(\n"
          ]
        },
        {
          "output_type": "stream",
          "name": "stdout",
          "text": [
            "bot:[14]\n",
            "\n",
            "etymology\n",
            "early usage\n",
            "in 1962, john tukey described a field he called \"data analysis\", which resembles modern data science.\n",
            "enter thanks\n",
            "bot:you are welcome\n",
            "bot:goodbye!take care\n"
          ]
        }
      ],
      "source": [
        "import numpy as np\n",
        "import nltk\n",
        "import string\n",
        "import random\n",
        "\n",
        "f=open(\"data science.txt\",\"r\",errors=\"ignore\")\n",
        "raw=f.read()\n",
        "raw=raw.lower()\n",
        "nltk.download(\"punkt\")\n",
        "nltk.download(\"wordnet\")\n",
        "nltk.download(\"punkt_tab\") # Added line to download the missing resource\n",
        "sent_tokens=nltk.sent_tokenize(raw)\n",
        "word_tokens=nltk.word_tokenize(raw)\n",
        "\n",
        "lemmer=nltk.stem.WordNetLemmatizer()\n",
        "def LemTokens(tokens):\n",
        "  return[lemmer.lemmatize(token)for token in tokens]\n",
        "rem_punc_dict=dict((ord(punct),None) for punct in string.punctuation)\n",
        "def lemnormalize(text):\n",
        "  return LemTokens(nltk.word_tokenize(text.lower().translate(rem_punc_dict)))\n",
        "\n",
        "greet_inp=(\"hello\",\"hi\",\"greetingd\",\"sup\",\"what,s up\",\"hey\")\n",
        "greet_rep=[\"hi\",\"hey\",\"nods\",\"hi there\",\"hello\",\"i am glad1 you are talkng to me\"]\n",
        "def greet(sentence):\n",
        "  for word in sentence.split():\n",
        "    if word.lower() in greet_inp:\n",
        "           return random.choice(greet_rep)\n",
        "\n",
        "from sklearn.feature_extraction.text import TfidfVectorizer\n",
        "from sklearn.metrics.pairwise import cosine_similarity\n",
        "\n",
        "def response(user_input): # Create a function for generating the response\n",
        "    robo1_response=''\n",
        "    TfidfVec=TfidfVectorizer(tokenizer=lemnormalize, stop_words='english')\n",
        "    tfidf=TfidfVec.fit_transform(sent_tokens)\n",
        "    vals=cosine_similarity(tfidf[-1],tfidf)\n",
        "    idx=vals.argsort()[0][-2]\n",
        "    flat=vals.flatten()\n",
        "    flat.sort()\n",
        "    req_tfidf=flat[-2]\n",
        "    if(req_tfidf==0):\n",
        "      robo1_response=robo1_response+\"i am sorry i don't understand you\"\n",
        "      return robo1_response\n",
        "    else:\n",
        "      robo1_response=robo1_response+sent_tokens[idx]\n",
        "      return robo1_response\n",
        "\n",
        "flag=True\n",
        "print(\"bot:,my name is shark.lets have a conversation also,if you want to exit any time,just type bye\")\n",
        "print(\"1.foundation\\n2.etymology\\n3.data science and data analysis\\n4.cloud\\n5.ethical consideration\")\n",
        "print(\"enter the above options in words\\n\")\n",
        "while(flag==True):\n",
        "  user=input(\"enter \")\n",
        "  user=user.lower()\n",
        "  if(user==\"bye\"):\n",
        "    flag=False\n",
        "\n",
        "  elif(user==\"thanks\" or user==\"thank you\"):\n",
        "      flag=False\n",
        "      print(\"bot:you are welcome\")\n",
        "  else:\n",
        "      if(greet(user)!=None):\n",
        "        print(\"bot:\"+greet(user))\n",
        "      else:\n",
        "        sent_tokens.append(user)\n",
        "        word_tokens=word_tokens+nltk.word_tokenize(user)\n",
        "        final_words=list(set(word_tokens))\n",
        "        print(\"bot:\",end=\"\")\n",
        "        print(response(user))\n",
        "        sent_tokens.remove(user)\n",
        "else:\n",
        "  flag=False\n",
        "  print(\"bot:goodbye!take care\")"
      ]
    }
  ],
  "metadata": {
    "colab": {
      "provenance": [],
      "authorship_tag": "ABX9TyN6tmrTvmeerfJfl+a86svV",
      "include_colab_link": true
    },
    "kernelspec": {
      "display_name": "Python 3",
      "name": "python3"
    },
    "language_info": {
      "name": "python"
    }
  },
  "nbformat": 4,
  "nbformat_minor": 0
}